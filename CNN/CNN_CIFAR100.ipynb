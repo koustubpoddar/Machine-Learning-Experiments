{
 "cells": [
  {
   "cell_type": "markdown",
   "metadata": {},
   "source": [
    "Importing Libraries"
   ]
  },
  {
   "cell_type": "code",
   "execution_count": 17,
   "metadata": {},
   "outputs": [],
   "source": [
    "import tensorflow as tf\n",
    "from tensorflow.keras import layers, models, datasets"
   ]
  },
  {
   "cell_type": "markdown",
   "metadata": {},
   "source": [
    "Load CIFAR-100 dataset"
   ]
  },
  {
   "cell_type": "code",
   "execution_count": 18,
   "metadata": {},
   "outputs": [],
   "source": [
    "(train_images, train_labels), (test_images, test_labels) = datasets.cifar100.load_data()"
   ]
  },
  {
   "cell_type": "markdown",
   "metadata": {},
   "source": [
    "Normalize pixel values to [0, 1]"
   ]
  },
  {
   "cell_type": "code",
   "execution_count": 19,
   "metadata": {},
   "outputs": [],
   "source": [
    "train_images, test_images = train_images / 255.0, test_images / 255.0"
   ]
  },
  {
   "cell_type": "markdown",
   "metadata": {},
   "source": [
    "Define CNN architecture"
   ]
  },
  {
   "cell_type": "code",
   "execution_count": 20,
   "metadata": {},
   "outputs": [
    {
     "name": "stderr",
     "output_type": "stream",
     "text": [
      "c:\\Users\\User\\AppData\\Local\\Programs\\Python\\Python312\\Lib\\site-packages\\keras\\src\\layers\\convolutional\\base_conv.py:107: UserWarning: Do not pass an `input_shape`/`input_dim` argument to a layer. When using Sequential models, prefer using an `Input(shape)` object as the first layer in the model instead.\n",
      "  super().__init__(activity_regularizer=activity_regularizer, **kwargs)\n"
     ]
    }
   ],
   "source": [
    "model = models.Sequential([\n",
    "    layers.Conv2D(32, (3, 3), activation='relu', input_shape=(32, 32, 3)),\n",
    "    layers.MaxPooling2D((2, 2)),\n",
    "    layers.Conv2D(64, (3, 3), activation='relu'),\n",
    "    layers.MaxPooling2D((2, 2)),\n",
    "    layers.Conv2D(128, (3, 3), activation='relu'),\n",
    "    layers.Flatten(),\n",
    "    layers.Dense(256, activation='relu'),\n",
    "    layers.Dense(100, activation='softmax')  # 100 classes in CIFAR-100\n",
    "])"
   ]
  },
  {
   "cell_type": "markdown",
   "metadata": {},
   "source": [
    "Compile the model"
   ]
  },
  {
   "cell_type": "code",
   "execution_count": 21,
   "metadata": {},
   "outputs": [],
   "source": [
    "model.compile(optimizer='adam',\n",
    "              loss='sparse_categorical_crossentropy',\n",
    "              metrics=['accuracy'])"
   ]
  },
  {
   "cell_type": "markdown",
   "metadata": {},
   "source": [
    "Train the model"
   ]
  },
  {
   "cell_type": "code",
   "execution_count": 27,
   "metadata": {},
   "outputs": [
    {
     "name": "stdout",
     "output_type": "stream",
     "text": [
      "Epoch 1/10\n",
      "\u001b[1m1563/1563\u001b[0m \u001b[32m━━━━━━━━━━━━━━━━━━━━\u001b[0m\u001b[37m\u001b[0m \u001b[1m24s\u001b[0m 15ms/step - accuracy: 0.6745 - loss: 1.1362 - val_accuracy: 0.3571 - val_loss: 3.1560\n",
      "Epoch 2/10\n",
      "\u001b[1m1563/1563\u001b[0m \u001b[32m━━━━━━━━━━━━━━━━━━━━\u001b[0m\u001b[37m\u001b[0m \u001b[1m24s\u001b[0m 15ms/step - accuracy: 0.7136 - loss: 0.9880 - val_accuracy: 0.3491 - val_loss: 3.5222\n",
      "Epoch 3/10\n",
      "\u001b[1m1563/1563\u001b[0m \u001b[32m━━━━━━━━━━━━━━━━━━━━\u001b[0m\u001b[37m\u001b[0m \u001b[1m23s\u001b[0m 15ms/step - accuracy: 0.7438 - loss: 0.8709 - val_accuracy: 0.3444 - val_loss: 3.7198\n",
      "Epoch 4/10\n",
      "\u001b[1m1563/1563\u001b[0m \u001b[32m━━━━━━━━━━━━━━━━━━━━\u001b[0m\u001b[37m\u001b[0m \u001b[1m24s\u001b[0m 15ms/step - accuracy: 0.7700 - loss: 0.7720 - val_accuracy: 0.3395 - val_loss: 3.9718\n",
      "Epoch 5/10\n",
      "\u001b[1m1563/1563\u001b[0m \u001b[32m━━━━━━━━━━━━━━━━━━━━\u001b[0m\u001b[37m\u001b[0m \u001b[1m28s\u001b[0m 18ms/step - accuracy: 0.7998 - loss: 0.6683 - val_accuracy: 0.3384 - val_loss: 4.2745\n",
      "Epoch 6/10\n",
      "\u001b[1m1563/1563\u001b[0m \u001b[32m━━━━━━━━━━━━━━━━━━━━\u001b[0m\u001b[37m\u001b[0m \u001b[1m27s\u001b[0m 17ms/step - accuracy: 0.8146 - loss: 0.5984 - val_accuracy: 0.3321 - val_loss: 4.5930\n",
      "Epoch 7/10\n",
      "\u001b[1m1563/1563\u001b[0m \u001b[32m━━━━━━━━━━━━━━━━━━━━\u001b[0m\u001b[37m\u001b[0m \u001b[1m27s\u001b[0m 17ms/step - accuracy: 0.8391 - loss: 0.5199 - val_accuracy: 0.3277 - val_loss: 4.7594\n",
      "Epoch 8/10\n",
      "\u001b[1m1563/1563\u001b[0m \u001b[32m━━━━━━━━━━━━━━━━━━━━\u001b[0m\u001b[37m\u001b[0m \u001b[1m26s\u001b[0m 17ms/step - accuracy: 0.8532 - loss: 0.4719 - val_accuracy: 0.3291 - val_loss: 5.2253\n",
      "Epoch 9/10\n",
      "\u001b[1m1563/1563\u001b[0m \u001b[32m━━━━━━━━━━━━━━━━━━━━\u001b[0m\u001b[37m\u001b[0m \u001b[1m24s\u001b[0m 16ms/step - accuracy: 0.8671 - loss: 0.4256 - val_accuracy: 0.3257 - val_loss: 5.4887\n",
      "Epoch 10/10\n",
      "\u001b[1m1563/1563\u001b[0m \u001b[32m━━━━━━━━━━━━━━━━━━━━\u001b[0m\u001b[37m\u001b[0m \u001b[1m23s\u001b[0m 15ms/step - accuracy: 0.8741 - loss: 0.3938 - val_accuracy: 0.3296 - val_loss: 5.7885\n"
     ]
    }
   ],
   "source": [
    "history = model.fit(train_images, train_labels, epochs=10, validation_data=(test_images, test_labels))"
   ]
  },
  {
   "cell_type": "markdown",
   "metadata": {},
   "source": [
    "Evaluate the model"
   ]
  },
  {
   "cell_type": "code",
   "execution_count": 28,
   "metadata": {},
   "outputs": [
    {
     "name": "stdout",
     "output_type": "stream",
     "text": [
      "\u001b[1m313/313\u001b[0m \u001b[32m━━━━━━━━━━━━━━━━━━━━\u001b[0m\u001b[37m\u001b[0m \u001b[1m2s\u001b[0m 5ms/step - accuracy: 0.3307 - loss: 5.7220\n",
      "Test accuracy: 0.3296\n"
     ]
    }
   ],
   "source": [
    "test_loss, test_acc = model.evaluate(test_images, test_labels)\n",
    "print(f\"Test accuracy: {test_acc:.4f}\")"
   ]
  },
  {
   "cell_type": "markdown",
   "metadata": {},
   "source": [
    "Training History Visualization"
   ]
  },
  {
   "cell_type": "code",
   "execution_count": 34,
   "metadata": {},
   "outputs": [
    {
     "data": {
      "image/png": "[encoded data removed]",
      "text/plain": [
       "<Figure size 640x480 with 1 Axes>"
      ]
     },
     "metadata": {},
     "output_type": "display_data"
    }
   ],
   "source": [
    "plt.plot(history.history['loss'], label='train_loss')\n",
    "plt.plot(history.history['val_loss'], label='val_loss')\n",
    "plt.title('Training History')\n",
    "plt.xlabel('Epochs')\n",
    "plt.ylabel('Loss')\n",
    "plt.legend()\n",
    "plt.show()"
   ]
  },
  {
   "cell_type": "markdown",
   "metadata": {},
   "source": [
    "Classification Report"
   ]
  },
  {
   "cell_type": "code",
   "execution_count": 33,
   "metadata": {},
   "outputs": [
    {
     "name": "stdout",
     "output_type": "stream",
     "text": [
      "\u001b[1m313/313\u001b[0m \u001b[32m━━━━━━━━━━━━━━━━━━━━\u001b[0m\u001b[37m\u001b[0m \u001b[1m1s\u001b[0m 4ms/step\n",
      "              precision    recall  f1-score   support\n",
      "\n",
      "           0       0.57      0.60      0.59       100\n",
      "           1       0.45      0.39      0.42       100\n",
      "           2       0.29      0.30      0.30       100\n",
      "           3       0.15      0.16      0.16       100\n",
      "           4       0.16      0.17      0.17       100\n",
      "           5       0.29      0.21      0.24       100\n",
      "           6       0.35      0.38      0.37       100\n",
      "           7       0.37      0.28      0.32       100\n",
      "           8       0.46      0.32      0.38       100\n",
      "           9       0.50      0.39      0.44       100\n",
      "          10       0.23      0.20      0.22       100\n",
      "          11       0.24      0.18      0.20       100\n",
      "          12       0.40      0.34      0.37       100\n",
      "          13       0.38      0.24      0.29       100\n",
      "          14       0.25      0.19      0.22       100\n",
      "          15       0.21      0.19      0.20       100\n",
      "          16       0.38      0.38      0.38       100\n",
      "          17       0.55      0.43      0.48       100\n",
      "          18       0.23      0.24      0.24       100\n",
      "          19       0.21      0.19      0.20       100\n",
      "          20       0.64      0.59      0.61       100\n",
      "          21       0.50      0.32      0.39       100\n",
      "          22       0.28      0.35      0.31       100\n",
      "          23       0.43      0.60      0.50       100\n",
      "          24       0.47      0.63      0.54       100\n",
      "          25       0.18      0.20      0.19       100\n",
      "          26       0.24      0.34      0.28       100\n",
      "          27       0.23      0.22      0.23       100\n",
      "          28       0.50      0.38      0.43       100\n",
      "          29       0.23      0.27      0.25       100\n",
      "          30       0.29      0.39      0.33       100\n",
      "          31       0.38      0.19      0.25       100\n",
      "          32       0.23      0.31      0.27       100\n",
      "          33       0.31      0.39      0.34       100\n",
      "          34       0.34      0.42      0.38       100\n",
      "          35       0.15      0.15      0.15       100\n",
      "          36       0.33      0.29      0.31       100\n",
      "          37       0.20      0.25      0.23       100\n",
      "          38       0.14      0.18      0.16       100\n",
      "          39       0.44      0.39      0.41       100\n",
      "          40       0.30      0.29      0.29       100\n",
      "          41       0.50      0.53      0.51       100\n",
      "          42       0.33      0.28      0.30       100\n",
      "          43       0.32      0.28      0.30       100\n",
      "          44       0.16      0.16      0.16       100\n",
      "          45       0.18      0.14      0.16       100\n",
      "          46       0.24      0.19      0.21       100\n",
      "          47       0.32      0.50      0.39       100\n",
      "          48       0.55      0.46      0.50       100\n",
      "          49       0.38      0.34      0.36       100\n",
      "          50       0.13      0.13      0.13       100\n",
      "          51       0.26      0.28      0.27       100\n",
      "          52       0.38      0.61      0.47       100\n",
      "          53       0.39      0.65      0.49       100\n",
      "          54       0.33      0.48      0.39       100\n",
      "          55       0.00      0.00      0.00       100\n",
      "          56       0.58      0.41      0.48       100\n",
      "          57       0.25      0.38      0.30       100\n",
      "          58       0.51      0.34      0.41       100\n",
      "          59       0.31      0.29      0.30       100\n",
      "          60       0.63      0.67      0.65       100\n",
      "          61       0.47      0.45      0.46       100\n",
      "          62       0.38      0.31      0.34       100\n",
      "          63       0.33      0.33      0.33       100\n",
      "          64       0.16      0.18      0.17       100\n",
      "          65       0.12      0.19      0.15       100\n",
      "          66       0.20      0.26      0.22       100\n",
      "          67       0.21      0.21      0.21       100\n",
      "          68       0.61      0.58      0.59       100\n",
      "          69       0.51      0.59      0.55       100\n",
      "          70       0.39      0.44      0.41       100\n",
      "          71       0.44      0.49      0.46       100\n",
      "          72       0.13      0.10      0.11       100\n",
      "          73       0.30      0.20      0.24       100\n",
      "          74       0.22      0.22      0.22       100\n",
      "          75       0.59      0.56      0.57       100\n",
      "          76       0.57      0.57      0.57       100\n",
      "          77       0.24      0.12      0.16       100\n",
      "          78       0.23      0.22      0.23       100\n",
      "          79       0.30      0.30      0.30       100\n",
      "          80       0.21      0.07      0.10       100\n",
      "          81       0.33      0.28      0.30       100\n",
      "          82       0.64      0.66      0.65       100\n",
      "          83       0.24      0.21      0.23       100\n",
      "          84       0.25      0.18      0.21       100\n",
      "          85       0.35      0.51      0.42       100\n",
      "          86       0.44      0.32      0.37       100\n",
      "          87       0.36      0.37      0.36       100\n",
      "          88       0.39      0.38      0.39       100\n",
      "          89       0.35      0.40      0.38       100\n",
      "          90       0.23      0.38      0.29       100\n",
      "          91       0.40      0.39      0.39       100\n",
      "          92       0.22      0.24      0.23       100\n",
      "          93       0.16      0.28      0.20       100\n",
      "          94       0.60      0.59      0.60       100\n",
      "          95       0.40      0.48      0.43       100\n",
      "          96       0.26      0.22      0.24       100\n",
      "          97       0.34      0.26      0.30       100\n",
      "          98       0.21      0.10      0.14       100\n",
      "          99       0.30      0.27      0.28       100\n",
      "\n",
      "    accuracy                           0.33     10000\n",
      "   macro avg       0.33      0.33      0.33     10000\n",
      "weighted avg       0.33      0.33      0.33     10000\n",
      "\n"
     ]
    }
   ],
   "source": [
    "# Generate predicted probabilities for each class\n",
    "predicted_probs = model.predict(test_images)\n",
    "\n",
    "# Get the class with the highest probability for each sample\n",
    "predicted_classes = predicted_probs.argmax(axis=1)\n",
    "\n",
    "# Assuming class labels are numeric (from 0 to 99)\n",
    "class_labels = [str(i) for i in range(100)]\n",
    "\n",
    "# Generate classification report\n",
    "report = classification_report(test_labels, predicted_classes, target_names=class_labels)\n",
    "print(report)"
   ]
  }
 ],
 "metadata": {
  "kernelspec": {
   "display_name": "Python 3",
   "language": "python",
   "name": "python3"
  },
  "language_info": {
   "codemirror_mode": {
    "name": "ipython",
    "version": 3
   },
   "file_extension": ".py",
   "mimetype": "text/x-python",
   "name": "python",
   "nbconvert_exporter": "python",
   "pygments_lexer": "ipython3",
   "version": "3.12.2"
  }
 },
 "nbformat": 4,
 "nbformat_minor": 2
}
